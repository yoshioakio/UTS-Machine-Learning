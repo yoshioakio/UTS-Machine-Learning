{
 "cells": [
  {
   "cell_type": "code",
   "execution_count": 10,
   "metadata": {},
   "outputs": [],
   "source": [
    "import pandas as pd\n",
    "\n",
    "data = {\n",
    "    'HARI': ['Senin', 'Selasa', 'Rabu', 'Kamis', 'Jumat', 'Sabtu', 'Minggu'],\n",
    "    'DATANG': [2, 3, 4, 1, 2, 5, 2],\n",
    "    'BIAYA': [30000*2, 35000*3, 25000*4, 15000*1, 20000*2, 30000*5, 35000*2],\n",
    "    'MAHASISWA': ['Ani', 'Budi', 'Jono', 'Lono', 'Joni', 'Ani', 'Budi']\n",
    "}\n",
    "df = pd.DataFrame(data)"
   ]
  },
  {
   "cell_type": "code",
   "execution_count": 17,
   "metadata": {},
   "outputs": [],
   "source": [
    "\n",
    "\n",
    "# Menghitung rata-rata mahasiswa datang per minggu\n",
    "average_students_per_day = df['DATANG'].mean()\n",
    "\n",
    "# Mencari kapan biaya tertinggi terjadi\n",
    "highest_cost_day = df.loc[df['BIAYA'].idxmax()]['HARI']\n",
    "\n",
    "# Menentukan hari dengan biaya lebih dari 110000\n",
    "days_with_cost_above_110000 = ', '.join(df[df['BIAYA'] > 110000]['HARI'].tolist())\n",
    "\n",
    "# Menentukan mahasiswa yang paling sering datang ke kampus\n",
    "most_frequent_student = df['MAHASISWA'].value_counts().idxmax()\n",
    "\n",
    "# Menentukan mahasiswa yang datang pada hari Minggu\n",
    "students_on_sunday = ', '.join(df[df['HARI'] == 'Minggu']['MAHASISWA'].tolist())\n",
    "\n",
    "# Menghitung biaya tertinggi dan terendah\n",
    "highest_cost = df['BIAYA'].max()\n",
    "lowest_cost = df['BIAYA'].min()\n",
    "\n",
    "# Menghitung frekuensi datang tertinggi dan terendah\n",
    "highest_frequency = df['DATANG'].max()\n",
    "lowest_frequency = df['DATANG'].min()\n"
   ]
  },
  {
   "cell_type": "code",
   "execution_count": 18,
   "metadata": {},
   "outputs": [
    {
     "name": "stdout",
     "output_type": "stream",
     "text": [
      "jawaban berdasarkan studi kasus Data set kegiatan mahasiswa\n",
      "a). Rata-rata mahasiswa datang per minggu          : 2.71\n",
      "b). Biaya tertinggi terjadi pada hari              : Sabtu\n",
      "c). Hari dengan biaya lebih dari 110000            : Sabtu\n",
      "d). Mahasiswa yang paling sering datang ke kampus  : Ani\n",
      "e). Mahasiswa yang datang pada hari Minggu         : Budi\n",
      "f). Biaya tertinggi                                : 150000\n",
      "    Biaya terendah                                 : 15000\n",
      "g). Frekuensi datang tertinggi                     : 5\n",
      "    Frekuensi datang terendah                      : 1\n"
     ]
    }
   ],
   "source": [
    "print(\"jawaban berdasarkan studi kasus Data set kegiatan mahasiswa\");\n",
    "\n",
    "print(f\"a). Rata-rata mahasiswa datang per minggu          : {average_students_per_day:.2f}\")\n",
    "print(f\"b). Biaya tertinggi terjadi pada hari              : {highest_cost_day}\")\n",
    "print(f\"c). Hari dengan biaya lebih dari 110000            : {days_with_cost_above_110000}\")\n",
    "print(f\"d). Mahasiswa yang paling sering datang ke kampus  : {most_frequent_student}\")\n",
    "print(f\"e). Mahasiswa yang datang pada hari Minggu         : {students_on_sunday}\")\n",
    "print(f\"f). Biaya tertinggi                                : {highest_cost}\")\n",
    "print(f\"    Biaya terendah                                 : {lowest_cost}\")\n",
    "print(f\"g). Frekuensi datang tertinggi                     : {highest_frequency}\")\n",
    "print(f\"    Frekuensi datang terendah                      : {lowest_frequency}\")"
   ]
  }
 ],
 "metadata": {
  "kernelspec": {
   "display_name": "Python 3",
   "language": "python",
   "name": "python3"
  },
  "language_info": {
   "codemirror_mode": {
    "name": "ipython",
    "version": 3
   },
   "file_extension": ".py",
   "mimetype": "text/x-python",
   "name": "python",
   "nbconvert_exporter": "python",
   "pygments_lexer": "ipython3",
   "version": "3.10.12"
  }
 },
 "nbformat": 4,
 "nbformat_minor": 2
}
